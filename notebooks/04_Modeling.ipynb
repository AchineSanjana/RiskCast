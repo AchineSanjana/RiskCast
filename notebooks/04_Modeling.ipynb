{
 "cells": [
  {
   "cell_type": "code",
   "execution_count": 8,
   "id": "f8c6c186-ba9a-44a2-8385-d00a99c68cd1",
   "metadata": {},
   "outputs": [],
   "source": [
    "import pandas as pd\n",
    "import numpy as np\n",
    "from sklearn.model_selection import train_test_split\n",
    "from sklearn.linear_model import LinearRegression\n",
    "from sklearn.ensemble import GradientBoostingRegressor\n",
    "from sklearn.multioutput import MultiOutputRegressor\n",
    "from sklearn.metrics import mean_squared_error, mean_absolute_error, r2_score\n"
   ]
  },
  {
   "cell_type": "code",
   "execution_count": 9,
   "id": "6215b9b0-fbb5-4a7f-b84a-1c4767efd8d4",
   "metadata": {},
   "outputs": [
    {
     "name": "stdout",
     "output_type": "stream",
     "text": [
      "Features: 40\n",
      "Targets: 2\n"
     ]
    }
   ],
   "source": [
    "# Load the processed dataset\n",
    "df = pd.read_csv(\"../data/processed/StormEvents_features.csv\")\n",
    "\n",
    "X = df.drop(columns=[\"DAMAGE_PROPERTY\", \"DAMAGE_CROPS\"], errors=\"ignore\")\n",
    "y = df[[\"DAMAGE_PROPERTY\", \"DAMAGE_CROPS\"]]\n",
    "\n",
    "# Train-test split\n",
    "X_train, X_test, y_train, y_test = train_test_split(X, y, test_size=0.2, random_state=42)\n",
    "\n",
    "print(\"Features:\", X.shape[1])\n",
    "print(\"Targets:\", y.shape[1])\n"
   ]
  },
  {
   "cell_type": "code",
   "execution_count": 10,
   "id": "fafa4a87-6475-418d-8453-516d24c0e6da",
   "metadata": {},
   "outputs": [
    {
     "name": "stdout",
     "output_type": "stream",
     "text": [
      "\n",
      "🔹 Training LinearRegression...\n",
      "LinearRegression - DAMAGE_PROPERTY: RMSE=170255.73, MAE=134799.00, R²=0.697\n",
      "LinearRegression - DAMAGE_CROPS: RMSE=56756.99, MAE=44928.96, R²=0.697\n",
      "\n",
      "🔹 Training GradientBoosting...\n",
      "GradientBoosting - DAMAGE_PROPERTY: RMSE=17213.35, MAE=4791.03, R²=0.997\n",
      "GradientBoosting - DAMAGE_CROPS: RMSE=5909.98, MAE=1646.29, R²=0.997\n"
     ]
    }
   ],
   "source": [
    "models = {\n",
    "    \"LinearRegression\": MultiOutputRegressor(LinearRegression()),\n",
    "    \"GradientBoosting\": MultiOutputRegressor(\n",
    "        GradientBoostingRegressor(n_estimators=300, learning_rate=0.05, random_state=42)\n",
    "    )\n",
    "}\n",
    "\n",
    "results = {}\n",
    "\n",
    "for name, model in models.items():\n",
    "    print(f\"\\n🔹 Training {name}...\")\n",
    "    model.fit(X_train, y_train)\n",
    "    y_pred = model.predict(X_test)\n",
    "\n",
    "    metrics = {}\n",
    "    for i, target in enumerate(y.columns):\n",
    "        rmse = np.sqrt(mean_squared_error(y_test.iloc[:, i], y_pred[:, i]))\n",
    "        mae = mean_absolute_error(y_test.iloc[:, i], y_pred[:, i])\n",
    "        r2 = r2_score(y_test.iloc[:, i], y_pred[:, i])\n",
    "        metrics[target] = {\"RMSE\": rmse, \"MAE\": mae, \"R2\": r2}\n",
    "        print(f\"{name} - {target}: RMSE={rmse:.2f}, MAE={mae:.2f}, R²={r2:.3f}\")\n",
    "    \n",
    "    results[name] = metrics\n"
   ]
  },
  {
   "cell_type": "code",
   "execution_count": null,
   "id": "2c8eb41e-3878-4682-a71c-64791a517df1",
   "metadata": {},
   "outputs": [],
   "source": []
  }
 ],
 "metadata": {
  "kernelspec": {
   "display_name": "Python (.venv FDM)",
   "language": "python",
   "name": "fdm-venv"
  },
  "language_info": {
   "codemirror_mode": {
    "name": "ipython",
    "version": 3
   },
   "file_extension": ".py",
   "mimetype": "text/x-python",
   "name": "python",
   "nbconvert_exporter": "python",
   "pygments_lexer": "ipython3",
   "version": "3.11.1"
  }
 },
 "nbformat": 4,
 "nbformat_minor": 5
}
