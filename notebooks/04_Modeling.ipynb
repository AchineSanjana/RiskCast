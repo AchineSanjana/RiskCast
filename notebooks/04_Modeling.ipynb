{
 "cells": [
  {
   "cell_type": "code",
   "execution_count": 1,
   "id": "ba198ecf-ca87-41a7-a4c5-3c22fa03f459",
   "metadata": {},
   "outputs": [],
   "source": [
    "# Cell 1 – Imports\n",
    "import pandas as pd\n",
    "import numpy as np\n",
    "\n",
    "from sklearn.model_selection import train_test_split\n",
    "from sklearn.linear_model import LinearRegression\n",
    "from sklearn.ensemble import RandomForestRegressor, GradientBoostingRegressor, ExtraTreesRegressor\n",
    "from sklearn.multioutput import MultiOutputRegressor\n",
    "from sklearn.pipeline import Pipeline\n",
    "from sklearn.compose import ColumnTransformer\n",
    "from sklearn.preprocessing import OneHotEncoder, StandardScaler\n",
    "from sklearn.impute import SimpleImputer\n",
    "from sklearn.metrics import mean_squared_error, mean_absolute_error, r2_score\n",
    "import joblib\n"
   ]
  },
  {
   "cell_type": "code",
   "execution_count": 2,
   "id": "a067f8bf-e20f-4b09-8741-f0bf219adeda",
   "metadata": {},
   "outputs": [
    {
     "name": "stdout",
     "output_type": "stream",
     "text": [
      "✅ Features shape: (33904, 8)\n",
      "✅ Targets shape: (33904, 2)\n"
     ]
    }
   ],
   "source": [
    "# Cell 2 – Load Dataset\n",
    "df = pd.read_csv(\"../data/interim/StormEvents_cleaned.csv\")\n",
    "\n",
    "# If MONTH not present, derive it from MONTH_NAME\n",
    "if \"MONTH\" not in df.columns:\n",
    "    if \"MONTH_NAME\" in df.columns:\n",
    "        month_map = {\n",
    "            \"JANUARY\": 1, \"FEBRUARY\": 2, \"MARCH\": 3, \"APRIL\": 4,\n",
    "            \"MAY\": 5, \"JUNE\": 6, \"JULY\": 7, \"AUGUST\": 8,\n",
    "            \"SEPTEMBER\": 9, \"OCTOBER\": 10, \"NOVEMBER\": 11, \"DECEMBER\": 12\n",
    "        }\n",
    "        df[\"MONTH\"] = df[\"MONTH_NAME\"].astype(str).str.upper().map(month_map)\n",
    "\n",
    "# If SEASON not present, derive from MONTH\n",
    "if \"SEASON\" not in df.columns:\n",
    "    def get_season(m):\n",
    "        if m in [12,1,2]: return \"DJF\"\n",
    "        elif m in [3,4,5]: return \"MAM\"\n",
    "        elif m in [6,7,8]: return \"JJA\"\n",
    "        elif m in [9,10,11]: return \"SON\"\n",
    "        return \"UNK\"\n",
    "    df[\"SEASON\"] = df[\"MONTH\"].apply(get_season)\n",
    "\n",
    "# Define features and target\n",
    "FEATURES = [\"EVENT_TYPE\", \"STATE\", \"MONTH\", \"SEASON\", \n",
    "            \"MAGNITUDE\", \"MAGNITUDE_TYPE\", \"BEGIN_LAT\", \"BEGIN_LON\"]\n",
    "\n",
    "X = df[FEATURES]\n",
    "y = df[[\"DAMAGE_PROPERTY\", \"DAMAGE_CROPS\"]]\n",
    "\n",
    "print(\"✅ Features shape:\", X.shape)\n",
    "print(\"✅ Targets shape:\", y.shape)\n"
   ]
  },
  {
   "cell_type": "code",
   "execution_count": 3,
   "id": "735ab44c-f3cf-476a-b9c3-93a154140cb6",
   "metadata": {},
   "outputs": [],
   "source": [
    "# Cell 3 – Define Preprocessor\n",
    "categorical_features = [\"EVENT_TYPE\", \"STATE\", \"SEASON\", \"MAGNITUDE_TYPE\"]\n",
    "numeric_features = [\"MONTH\", \"MAGNITUDE\", \"BEGIN_LAT\", \"BEGIN_LON\"]\n",
    "\n",
    "categorical_transformer = Pipeline(steps=[\n",
    "    (\"imputer\", SimpleImputer(strategy=\"most_frequent\")),\n",
    "    (\"encoder\", OneHotEncoder(handle_unknown=\"ignore\"))\n",
    "])\n",
    "\n",
    "numeric_transformer = Pipeline(steps=[\n",
    "    (\"imputer\", SimpleImputer(strategy=\"constant\", fill_value=0, keep_empty_features=True)),\n",
    "    (\"scaler\", StandardScaler())\n",
    "])\n",
    "\n",
    "preprocessor = ColumnTransformer([\n",
    "    (\"cat\", categorical_transformer, categorical_features),\n",
    "    (\"num\", numeric_transformer, numeric_features)\n",
    "])\n"
   ]
  },
  {
   "cell_type": "code",
   "execution_count": 4,
   "id": "cbe3be2a-eda8-4f9c-91e8-240e368eee5f",
   "metadata": {},
   "outputs": [],
   "source": [
    "# Cell 4 – Define Models\n",
    "models = {\n",
    "    \"LinearRegression\": MultiOutputRegressor(LinearRegression()),\n",
    "    \"RandomForest\": MultiOutputRegressor(RandomForestRegressor(n_estimators=200, random_state=42, n_jobs=-1)),\n",
    "    \"GradientBoosting\": MultiOutputRegressor(GradientBoostingRegressor(n_estimators=300, learning_rate=0.05, random_state=42)),\n",
    "    \"ExtraTrees\": MultiOutputRegressor(ExtraTreesRegressor(n_estimators=300, random_state=42, n_jobs=-1))\n",
    "}\n"
   ]
  },
  {
   "cell_type": "code",
   "execution_count": 5,
   "id": "37eedff3-d93c-458a-86d9-87e6ecbe5b75",
   "metadata": {},
   "outputs": [
    {
     "name": "stdout",
     "output_type": "stream",
     "text": [
      "\n",
      "🔹 Training LinearRegression...\n",
      "LinearRegression - DAMAGE_PROPERTY: RMSE=63934.48, MAE=14892.13, R²=0.960\n",
      "LinearRegression - DAMAGE_CROPS: RMSE=29892.94, MAE=10030.54, R²=0.915\n",
      "\n",
      "🔹 Training RandomForest...\n",
      "RandomForest - DAMAGE_PROPERTY: RMSE=71349.89, MAE=19091.73, R²=0.950\n",
      "RandomForest - DAMAGE_CROPS: RMSE=33311.86, MAE=10181.25, R²=0.894\n",
      "\n",
      "🔹 Training GradientBoosting...\n",
      "GradientBoosting - DAMAGE_PROPERTY: RMSE=64823.30, MAE=15880.16, R²=0.959\n",
      "GradientBoosting - DAMAGE_CROPS: RMSE=30133.42, MAE=10076.04, R²=0.913\n",
      "\n",
      "🔹 Training ExtraTrees...\n",
      "ExtraTrees - DAMAGE_PROPERTY: RMSE=74494.37, MAE=19332.80, R²=0.946\n",
      "ExtraTrees - DAMAGE_CROPS: RMSE=36042.54, MAE=10319.57, R²=0.876\n",
      "\n",
      "✅ Best model selected: LinearRegression\n"
     ]
    }
   ],
   "source": [
    "# Cell 5 – Training & Evaluation\n",
    "results = {}\n",
    "best_model = None\n",
    "best_score = -np.inf\n",
    "\n",
    "X_train, X_test, y_train, y_test = train_test_split(X, y, test_size=0.2, random_state=42)\n",
    "\n",
    "for name, regressor in models.items():\n",
    "    print(f\"\\n🔹 Training {name}...\")\n",
    "    \n",
    "    pipe = Pipeline([\n",
    "        (\"preprocessor\", preprocessor),\n",
    "        (\"regressor\", regressor)\n",
    "    ])\n",
    "    \n",
    "    pipe.fit(X_train, y_train)\n",
    "    y_pred = pipe.predict(X_test)\n",
    "\n",
    "    metrics = {}\n",
    "    r2_scores = []\n",
    "    for i, target in enumerate(y.columns):\n",
    "        rmse = np.sqrt(mean_squared_error(y_test.iloc[:, i], y_pred[:, i]))\n",
    "        mae = mean_absolute_error(y_test.iloc[:, i], y_pred[:, i])\n",
    "        r2 = r2_score(y_test.iloc[:, i], y_pred[:, i])\n",
    "        metrics[target] = {\"RMSE\": rmse, \"MAE\": mae, \"R2\": r2}\n",
    "        r2_scores.append(r2)\n",
    "        print(f\"{name} - {target}: RMSE={rmse:.2f}, MAE={mae:.2f}, R²={r2:.3f}\")\n",
    "\n",
    "    avg_r2 = np.mean(r2_scores)\n",
    "    results[name] = {\"metrics\": metrics, \"avg_r2\": avg_r2}\n",
    "\n",
    "    if avg_r2 > best_score:\n",
    "        best_score = avg_r2\n",
    "        best_model = (name, pipe)\n",
    "\n",
    "print(\"\\n✅ Best model selected:\", best_model[0])\n"
   ]
  },
  {
   "cell_type": "code",
   "execution_count": 6,
   "id": "2a311714-817b-4e9e-8329-bbd2ce66be1d",
   "metadata": {},
   "outputs": [
    {
     "name": "stdout",
     "output_type": "stream",
     "text": [
      "🌟 Final pipeline saved as storm_damage_model.joblib (Best: LinearRegression, Avg R² = 0.937)\n"
     ]
    }
   ],
   "source": [
    "# Cell 6 – Save Final Model\n",
    "final_name, final_pipeline = best_model\n",
    "\n",
    "joblib.dump(final_pipeline, \"../models/storm_damage_model.joblib\")\n",
    "\n",
    "print(f\"🌟 Final pipeline saved as storm_damage_model.joblib (Best: {final_name}, Avg R² = {best_score:.3f})\")\n"
   ]
  },
  {
   "cell_type": "code",
   "execution_count": 7,
   "id": "9b3e76b7-c534-4081-9977-514d974c0dfc",
   "metadata": {},
   "outputs": [
    {
     "name": "stdout",
     "output_type": "stream",
     "text": [
      "\n",
      "📊 Model Comparison:\n"
     ]
    },
    {
     "data": {
      "text/html": [
       "<div>\n",
       "<style scoped>\n",
       "    .dataframe tbody tr th:only-of-type {\n",
       "        vertical-align: middle;\n",
       "    }\n",
       "\n",
       "    .dataframe tbody tr th {\n",
       "        vertical-align: top;\n",
       "    }\n",
       "\n",
       "    .dataframe thead th {\n",
       "        text-align: right;\n",
       "    }\n",
       "</style>\n",
       "<table border=\"1\" class=\"dataframe\">\n",
       "  <thead>\n",
       "    <tr style=\"text-align: right;\">\n",
       "      <th></th>\n",
       "      <th></th>\n",
       "      <th>RMSE</th>\n",
       "      <th>MAE</th>\n",
       "      <th>R2</th>\n",
       "    </tr>\n",
       "  </thead>\n",
       "  <tbody>\n",
       "    <tr>\n",
       "      <th rowspan=\"2\" valign=\"top\">LinearRegression</th>\n",
       "      <th>DAMAGE_PROPERTY</th>\n",
       "      <td>63934.481811</td>\n",
       "      <td>14892.126413</td>\n",
       "      <td>0.960003</td>\n",
       "    </tr>\n",
       "    <tr>\n",
       "      <th>DAMAGE_CROPS</th>\n",
       "      <td>29892.935760</td>\n",
       "      <td>10030.537934</td>\n",
       "      <td>0.914820</td>\n",
       "    </tr>\n",
       "    <tr>\n",
       "      <th rowspan=\"2\" valign=\"top\">RandomForest</th>\n",
       "      <th>DAMAGE_PROPERTY</th>\n",
       "      <td>71349.894537</td>\n",
       "      <td>19091.734714</td>\n",
       "      <td>0.950187</td>\n",
       "    </tr>\n",
       "    <tr>\n",
       "      <th>DAMAGE_CROPS</th>\n",
       "      <td>33311.860758</td>\n",
       "      <td>10181.252403</td>\n",
       "      <td>0.894221</td>\n",
       "    </tr>\n",
       "    <tr>\n",
       "      <th rowspan=\"2\" valign=\"top\">GradientBoosting</th>\n",
       "      <th>DAMAGE_PROPERTY</th>\n",
       "      <td>64823.299531</td>\n",
       "      <td>15880.159620</td>\n",
       "      <td>0.958883</td>\n",
       "    </tr>\n",
       "    <tr>\n",
       "      <th>DAMAGE_CROPS</th>\n",
       "      <td>30133.420191</td>\n",
       "      <td>10076.039946</td>\n",
       "      <td>0.913444</td>\n",
       "    </tr>\n",
       "    <tr>\n",
       "      <th rowspan=\"2\" valign=\"top\">ExtraTrees</th>\n",
       "      <th>DAMAGE_PROPERTY</th>\n",
       "      <td>74494.374949</td>\n",
       "      <td>19332.801744</td>\n",
       "      <td>0.945699</td>\n",
       "    </tr>\n",
       "    <tr>\n",
       "      <th>DAMAGE_CROPS</th>\n",
       "      <td>36042.537534</td>\n",
       "      <td>10319.565547</td>\n",
       "      <td>0.876169</td>\n",
       "    </tr>\n",
       "  </tbody>\n",
       "</table>\n",
       "</div>"
      ],
      "text/plain": [
       "                                          RMSE           MAE        R2\n",
       "LinearRegression DAMAGE_PROPERTY  63934.481811  14892.126413  0.960003\n",
       "                 DAMAGE_CROPS     29892.935760  10030.537934  0.914820\n",
       "RandomForest     DAMAGE_PROPERTY  71349.894537  19091.734714  0.950187\n",
       "                 DAMAGE_CROPS     33311.860758  10181.252403  0.894221\n",
       "GradientBoosting DAMAGE_PROPERTY  64823.299531  15880.159620  0.958883\n",
       "                 DAMAGE_CROPS     30133.420191  10076.039946  0.913444\n",
       "ExtraTrees       DAMAGE_PROPERTY  74494.374949  19332.801744  0.945699\n",
       "                 DAMAGE_CROPS     36042.537534  10319.565547  0.876169"
      ]
     },
     "metadata": {},
     "output_type": "display_data"
    }
   ],
   "source": [
    "# Cell 7 – Compare Results\n",
    "results_df = pd.DataFrame({\n",
    "    (model, target): results[model][\"metrics\"][target]\n",
    "    for model in results\n",
    "    for target in results[model][\"metrics\"]\n",
    "}).T\n",
    "\n",
    "print(\"\\n📊 Model Comparison:\")\n",
    "display(results_df)\n"
   ]
  },
  {
   "cell_type": "code",
   "execution_count": null,
   "id": "58bd52d5-91d2-4d62-8cf1-144c91d77b0f",
   "metadata": {},
   "outputs": [],
   "source": []
  },
  {
   "cell_type": "code",
   "execution_count": null,
   "id": "c23c8cc1-d14f-4571-bb27-68d437d3209c",
   "metadata": {},
   "outputs": [],
   "source": []
  }
 ],
 "metadata": {
  "kernelspec": {
   "display_name": "Python (.venv FDM)",
   "language": "python",
   "name": "fdm-venv"
  },
  "language_info": {
   "codemirror_mode": {
    "name": "ipython",
    "version": 3
   },
   "file_extension": ".py",
   "mimetype": "text/x-python",
   "name": "python",
   "nbconvert_exporter": "python",
   "pygments_lexer": "ipython3",
   "version": "3.11.1"
  }
 },
 "nbformat": 4,
 "nbformat_minor": 5
}
