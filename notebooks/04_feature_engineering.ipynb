{
 "cells": [
  {
   "cell_type": "code",
   "execution_count": 1,
   "id": "36efde90-61e3-4518-87e9-bb80a04cca74",
   "metadata": {},
   "outputs": [
    {
     "name": "stdout",
     "output_type": "stream",
     "text": [
      "✅ Paths set up\n"
     ]
    }
   ],
   "source": [
    "# Cell 0: Setup\n",
    "from pathlib import Path\n",
    "import pandas as pd\n",
    "import numpy as np\n",
    "from sklearn.preprocessing import OneHotEncoder\n",
    "from sklearn.impute import SimpleImputer\n",
    "from sklearn.compose import ColumnTransformer\n",
    "from sklearn.pipeline import Pipeline\n",
    "import joblib\n",
    "\n",
    "# Paths\n",
    "BASE = Path(\"..\")  # relative to notebooks/\n",
    "DATA_PROCESSED = BASE / \"data\" / \"processed\"\n",
    "OUT_DIR = BASE / \"data\" / \"interim\"\n",
    "OUT_DIR.mkdir(parents=True, exist_ok=True)\n",
    "\n",
    "print(\"✅ Paths set up\")\n"
   ]
  },
  {
   "cell_type": "code",
   "execution_count": 2,
   "id": "deac1466-3874-47a3-aec7-9f7061f95000",
   "metadata": {},
   "outputs": [
    {
     "data": {
      "text/html": [
       "<div>\n",
       "<style scoped>\n",
       "    .dataframe tbody tr th:only-of-type {\n",
       "        vertical-align: middle;\n",
       "    }\n",
       "\n",
       "    .dataframe tbody tr th {\n",
       "        vertical-align: top;\n",
       "    }\n",
       "\n",
       "    .dataframe thead th {\n",
       "        text-align: right;\n",
       "    }\n",
       "</style>\n",
       "<table border=\"1\" class=\"dataframe\">\n",
       "  <thead>\n",
       "    <tr style=\"text-align: right;\">\n",
       "      <th></th>\n",
       "      <th>event_type</th>\n",
       "      <th>state</th>\n",
       "      <th>month</th>\n",
       "      <th>season</th>\n",
       "      <th>magnitude</th>\n",
       "      <th>magnitude_type</th>\n",
       "      <th>begin_lat</th>\n",
       "      <th>begin_lon</th>\n",
       "      <th>damage_property_num</th>\n",
       "    </tr>\n",
       "  </thead>\n",
       "  <tbody>\n",
       "    <tr>\n",
       "      <th>0</th>\n",
       "      <td>Thunderstorm Wind</td>\n",
       "      <td>GEORGIA</td>\n",
       "      <td>3</td>\n",
       "      <td>MAM</td>\n",
       "      <td>52.0</td>\n",
       "      <td>EG</td>\n",
       "      <td>33.4757</td>\n",
       "      <td>-85.238</td>\n",
       "      <td>1000.0</td>\n",
       "    </tr>\n",
       "    <tr>\n",
       "      <th>1</th>\n",
       "      <td>Tornado</td>\n",
       "      <td>MICHIGAN</td>\n",
       "      <td>3</td>\n",
       "      <td>MAM</td>\n",
       "      <td>50.0</td>\n",
       "      <td>Unknown</td>\n",
       "      <td>41.7900</td>\n",
       "      <td>-86.100</td>\n",
       "      <td>100000.0</td>\n",
       "    </tr>\n",
       "    <tr>\n",
       "      <th>2</th>\n",
       "      <td>Flash Flood</td>\n",
       "      <td>TENNESSEE</td>\n",
       "      <td>4</td>\n",
       "      <td>MAM</td>\n",
       "      <td>50.0</td>\n",
       "      <td>Unknown</td>\n",
       "      <td>36.0300</td>\n",
       "      <td>-89.330</td>\n",
       "      <td>0.0</td>\n",
       "    </tr>\n",
       "    <tr>\n",
       "      <th>3</th>\n",
       "      <td>Thunderstorm Wind</td>\n",
       "      <td>TENNESSEE</td>\n",
       "      <td>4</td>\n",
       "      <td>MAM</td>\n",
       "      <td>52.0</td>\n",
       "      <td>EG</td>\n",
       "      <td>36.1800</td>\n",
       "      <td>-88.160</td>\n",
       "      <td>0.0</td>\n",
       "    </tr>\n",
       "    <tr>\n",
       "      <th>4</th>\n",
       "      <td>Flash Flood</td>\n",
       "      <td>TENNESSEE</td>\n",
       "      <td>4</td>\n",
       "      <td>MAM</td>\n",
       "      <td>50.0</td>\n",
       "      <td>Unknown</td>\n",
       "      <td>36.3000</td>\n",
       "      <td>-88.710</td>\n",
       "      <td>0.0</td>\n",
       "    </tr>\n",
       "  </tbody>\n",
       "</table>\n",
       "</div>"
      ],
      "text/plain": [
       "          event_type      state  month season  magnitude magnitude_type  \\\n",
       "0  Thunderstorm Wind    GEORGIA      3    MAM       52.0             EG   \n",
       "1            Tornado   MICHIGAN      3    MAM       50.0        Unknown   \n",
       "2        Flash Flood  TENNESSEE      4    MAM       50.0        Unknown   \n",
       "3  Thunderstorm Wind  TENNESSEE      4    MAM       52.0             EG   \n",
       "4        Flash Flood  TENNESSEE      4    MAM       50.0        Unknown   \n",
       "\n",
       "   begin_lat  begin_lon  damage_property_num  \n",
       "0    33.4757    -85.238               1000.0  \n",
       "1    41.7900    -86.100             100000.0  \n",
       "2    36.0300    -89.330                  0.0  \n",
       "3    36.1800    -88.160                  0.0  \n",
       "4    36.3000    -88.710                  0.0  "
      ]
     },
     "execution_count": 2,
     "metadata": {},
     "output_type": "execute_result"
    }
   ],
   "source": [
    "# Cell 1: Load the cleaned dataset\n",
    "clean_file = list(DATA_PROCESSED.glob(\"cleaned.parquet\")) or list(DATA_PROCESSED.glob(\"cleaned.csv\"))\n",
    "assert clean_file, \"Run preprocessing first to generate cleaned.csv or cleaned.parquet\"\n",
    "df = pd.read_parquet(clean_file[0]) if clean_file[0].suffix == \".parquet\" else pd.read_csv(clean_file[0])\n",
    "\n",
    "df.head()\n"
   ]
  },
  {
   "cell_type": "code",
   "execution_count": 3,
   "id": "542c9d19-711c-4303-8b65-43aa815daf7d",
   "metadata": {},
   "outputs": [
    {
     "name": "stdout",
     "output_type": "stream",
     "text": [
      "✅ Feature columns selected: ['month', 'magnitude', 'begin_lat', 'begin_lon', 'event_type', 'state', 'season', 'magnitude_type']\n"
     ]
    },
    {
     "data": {
      "text/html": [
       "<div>\n",
       "<style scoped>\n",
       "    .dataframe tbody tr th:only-of-type {\n",
       "        vertical-align: middle;\n",
       "    }\n",
       "\n",
       "    .dataframe tbody tr th {\n",
       "        vertical-align: top;\n",
       "    }\n",
       "\n",
       "    .dataframe thead th {\n",
       "        text-align: right;\n",
       "    }\n",
       "</style>\n",
       "<table border=\"1\" class=\"dataframe\">\n",
       "  <thead>\n",
       "    <tr style=\"text-align: right;\">\n",
       "      <th></th>\n",
       "      <th>month</th>\n",
       "      <th>magnitude</th>\n",
       "      <th>begin_lat</th>\n",
       "      <th>begin_lon</th>\n",
       "      <th>event_type</th>\n",
       "      <th>state</th>\n",
       "      <th>season</th>\n",
       "      <th>magnitude_type</th>\n",
       "      <th>damage_property_num</th>\n",
       "    </tr>\n",
       "  </thead>\n",
       "  <tbody>\n",
       "    <tr>\n",
       "      <th>0</th>\n",
       "      <td>3</td>\n",
       "      <td>52.0</td>\n",
       "      <td>33.4757</td>\n",
       "      <td>-85.238</td>\n",
       "      <td>Thunderstorm Wind</td>\n",
       "      <td>GEORGIA</td>\n",
       "      <td>MAM</td>\n",
       "      <td>EG</td>\n",
       "      <td>1000.0</td>\n",
       "    </tr>\n",
       "    <tr>\n",
       "      <th>1</th>\n",
       "      <td>3</td>\n",
       "      <td>50.0</td>\n",
       "      <td>41.7900</td>\n",
       "      <td>-86.100</td>\n",
       "      <td>Tornado</td>\n",
       "      <td>MICHIGAN</td>\n",
       "      <td>MAM</td>\n",
       "      <td>Unknown</td>\n",
       "      <td>100000.0</td>\n",
       "    </tr>\n",
       "    <tr>\n",
       "      <th>2</th>\n",
       "      <td>4</td>\n",
       "      <td>50.0</td>\n",
       "      <td>36.0300</td>\n",
       "      <td>-89.330</td>\n",
       "      <td>Flash Flood</td>\n",
       "      <td>TENNESSEE</td>\n",
       "      <td>MAM</td>\n",
       "      <td>Unknown</td>\n",
       "      <td>0.0</td>\n",
       "    </tr>\n",
       "    <tr>\n",
       "      <th>3</th>\n",
       "      <td>4</td>\n",
       "      <td>52.0</td>\n",
       "      <td>36.1800</td>\n",
       "      <td>-88.160</td>\n",
       "      <td>Thunderstorm Wind</td>\n",
       "      <td>TENNESSEE</td>\n",
       "      <td>MAM</td>\n",
       "      <td>EG</td>\n",
       "      <td>0.0</td>\n",
       "    </tr>\n",
       "    <tr>\n",
       "      <th>4</th>\n",
       "      <td>4</td>\n",
       "      <td>50.0</td>\n",
       "      <td>36.3000</td>\n",
       "      <td>-88.710</td>\n",
       "      <td>Flash Flood</td>\n",
       "      <td>TENNESSEE</td>\n",
       "      <td>MAM</td>\n",
       "      <td>Unknown</td>\n",
       "      <td>0.0</td>\n",
       "    </tr>\n",
       "  </tbody>\n",
       "</table>\n",
       "</div>"
      ],
      "text/plain": [
       "   month  magnitude  begin_lat  begin_lon         event_type      state  \\\n",
       "0      3       52.0    33.4757    -85.238  Thunderstorm Wind    GEORGIA   \n",
       "1      3       50.0    41.7900    -86.100            Tornado   MICHIGAN   \n",
       "2      4       50.0    36.0300    -89.330        Flash Flood  TENNESSEE   \n",
       "3      4       52.0    36.1800    -88.160  Thunderstorm Wind  TENNESSEE   \n",
       "4      4       50.0    36.3000    -88.710        Flash Flood  TENNESSEE   \n",
       "\n",
       "  season magnitude_type  damage_property_num  \n",
       "0    MAM             EG               1000.0  \n",
       "1    MAM        Unknown             100000.0  \n",
       "2    MAM        Unknown                  0.0  \n",
       "3    MAM             EG                  0.0  \n",
       "4    MAM        Unknown                  0.0  "
      ]
     },
     "execution_count": 3,
     "metadata": {},
     "output_type": "execute_result"
    }
   ],
   "source": [
    "# Cell 2: Define target and features\n",
    "target_col = \"damage_property_num\"\n",
    "\n",
    "num_cols = [\"month\", \"magnitude\", \"begin_lat\", \"begin_lon\"]\n",
    "cat_cols = [\"event_type\", \"state\", \"season\", \"magnitude_type\"]\n",
    "\n",
    "features = num_cols + cat_cols\n",
    "df_model = df[features + [target_col]].copy()\n",
    "\n",
    "print(\"✅ Feature columns selected:\", features)\n",
    "df_model.head()\n"
   ]
  },
  {
   "cell_type": "code",
   "execution_count": 4,
   "id": "883b8373-4af4-4eaa-9cc9-e830c618ee58",
   "metadata": {},
   "outputs": [
    {
     "name": "stdout",
     "output_type": "stream",
     "text": [
      "✅ Missing values handled\n"
     ]
    },
    {
     "data": {
      "text/plain": [
       "month                  0\n",
       "magnitude              0\n",
       "begin_lat              0\n",
       "begin_lon              0\n",
       "event_type             0\n",
       "state                  0\n",
       "season                 0\n",
       "magnitude_type         0\n",
       "damage_property_num    0\n",
       "dtype: int64"
      ]
     },
     "execution_count": 4,
     "metadata": {},
     "output_type": "execute_result"
    }
   ],
   "source": [
    "# Cell 3: Handle missing values\n",
    "# Numbers → median, Categories → \"Unknown\"\n",
    "for c in num_cols:\n",
    "    df_model[c] = pd.to_numeric(df_model[c], errors=\"coerce\")\n",
    "    df_model[c] = df_model[c].fillna(df_model[c].median())\n",
    "\n",
    "for c in cat_cols:\n",
    "    df_model[c] = df_model[c].astype(\"string\").fillna(\"Unknown\")\n",
    "\n",
    "print(\"✅ Missing values handled\")\n",
    "df_model.isna().sum()\n"
   ]
  },
  {
   "cell_type": "code",
   "execution_count": 5,
   "id": "558e7070-632a-4300-adf5-32798ee6753a",
   "metadata": {},
   "outputs": [
    {
     "name": "stdout",
     "output_type": "stream",
     "text": [
      "✅ Preprocessor fitted and saved -> ..\\data\\interim\\feature_preprocessor.joblib\n"
     ]
    }
   ],
   "source": [
    "# Cell 4: Build preprocessing pipeline (encoding + imputation)\n",
    "preprocessor = ColumnTransformer([\n",
    "    (\"num\", SimpleImputer(strategy=\"median\"), num_cols),\n",
    "    (\"cat\", Pipeline([\n",
    "        (\"imp\", SimpleImputer(strategy=\"most_frequent\")),\n",
    "        (\"oh\", OneHotEncoder(handle_unknown=\"ignore\"))\n",
    "    ]), cat_cols)\n",
    "])\n",
    "\n",
    "# Fit the preprocessor\n",
    "preprocessor.fit(df_model[features])\n",
    "\n",
    "# Save for reuse\n",
    "joblib.dump(preprocessor, OUT_DIR / \"feature_preprocessor.joblib\")\n",
    "\n",
    "print(\"✅ Preprocessor fitted and saved ->\", OUT_DIR / \"feature_preprocessor.joblib\")\n"
   ]
  },
  {
   "cell_type": "code",
   "execution_count": 6,
   "id": "c1818e77-0ba5-41bb-8f30-dc834f96e350",
   "metadata": {},
   "outputs": [
    {
     "name": "stdout",
     "output_type": "stream",
     "text": [
      "X shape: (19098, 86)\n",
      "y shape: (19098,)\n"
     ]
    }
   ],
   "source": [
    "# Cell 5: Transform dataset into numeric matrix\n",
    "X = preprocessor.transform(df_model[features])\n",
    "y = df_model[target_col].values\n",
    "\n",
    "print(\"X shape:\", X.shape)\n",
    "print(\"y shape:\", y.shape)\n"
   ]
  },
  {
   "cell_type": "code",
   "execution_count": 7,
   "id": "37a94b01-c871-4279-9332-22a59898d672",
   "metadata": {},
   "outputs": [
    {
     "name": "stdout",
     "output_type": "stream",
     "text": [
      "✅ Saved features -> ..\\data\\interim\\X_features.npz\n",
      "✅ Saved target   -> ..\\data\\interim\\y_target.npy\n"
     ]
    }
   ],
   "source": [
    "# Cell 6: Save processed feature set (optional, sparse matrix may be large)\n",
    "import scipy.sparse\n",
    "\n",
    "# Save X (features) and y (target) separately\n",
    "scipy.sparse.save_npz(OUT_DIR / \"X_features.npz\", X)\n",
    "np.save(OUT_DIR / \"y_target.npy\", y)\n",
    "\n",
    "print(\"✅ Saved features ->\", OUT_DIR / \"X_features.npz\")\n",
    "print(\"✅ Saved target   ->\", OUT_DIR / \"y_target.npy\")\n"
   ]
  },
  {
   "cell_type": "code",
   "execution_count": 8,
   "id": "b9fbb4be-019c-49b7-b252-43eee8b14a50",
   "metadata": {},
   "outputs": [
    {
     "name": "stdout",
     "output_type": "stream",
     "text": [
      "First 10 target values: [  1000. 100000.      0.      0.      0.      0.      0.      0.   5000.\n",
      "   5000.]\n"
     ]
    }
   ],
   "source": [
    "# Cell 7: Quick sanity check\n",
    "print(\"First 10 target values:\", y[:10])\n"
   ]
  },
  {
   "cell_type": "code",
   "execution_count": null,
   "id": "e2a867e8-fc9f-465d-a5ab-c5921c9c88cf",
   "metadata": {},
   "outputs": [],
   "source": []
  }
 ],
 "metadata": {
  "kernelspec": {
   "display_name": "Python (.venv FDM)",
   "language": "python",
   "name": "fdm-venv"
  },
  "language_info": {
   "codemirror_mode": {
    "name": "ipython",
    "version": 3
   },
   "file_extension": ".py",
   "mimetype": "text/x-python",
   "name": "python",
   "nbconvert_exporter": "python",
   "pygments_lexer": "ipython3",
   "version": "3.11.1"
  }
 },
 "nbformat": 4,
 "nbformat_minor": 5
}
