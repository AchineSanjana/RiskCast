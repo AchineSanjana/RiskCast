{
 "cells": [
  {
   "cell_type": "code",
   "execution_count": 1,
   "id": "ca9cd8fb-158e-4e27-8c02-3cefdf23d8cc",
   "metadata": {},
   "outputs": [
    {
     "name": "stdout",
     "output_type": "stream",
     "text": [
      "✅ Paths ready\n"
     ]
    }
   ],
   "source": [
    "from pathlib import Path\n",
    "import numpy as np\n",
    "import pandas as pd\n",
    "import joblib\n",
    "import matplotlib.pyplot as plt\n",
    "\n",
    "from sklearn.model_selection import train_test_split\n",
    "from sklearn.metrics import mean_squared_error, mean_absolute_error, r2_score, accuracy_score, f1_score\n",
    "from sklearn.ensemble import RandomForestClassifier, GradientBoostingRegressor\n",
    "from math import sqrt\n",
    "\n",
    "BASE = Path(\"..\")\n",
    "DATA_INTERIM = BASE / \"data\" / \"interim\"\n",
    "MODEL_DIR = BASE / \"models\"\n",
    "MODEL_DIR.mkdir(parents=True, exist_ok=True)\n",
    "\n",
    "print(\"✅ Paths ready\")\n"
   ]
  },
  {
   "cell_type": "code",
   "execution_count": 2,
   "id": "9d051f34-759a-4ed0-9653-6e2feaf42ddd",
   "metadata": {},
   "outputs": [
    {
     "name": "stdout",
     "output_type": "stream",
     "text": [
      "Rows: 19098 Cols: 16\n"
     ]
    },
    {
     "data": {
      "text/html": [
       "<div>\n",
       "<style scoped>\n",
       "    .dataframe tbody tr th:only-of-type {\n",
       "        vertical-align: middle;\n",
       "    }\n",
       "\n",
       "    .dataframe tbody tr th {\n",
       "        vertical-align: top;\n",
       "    }\n",
       "\n",
       "    .dataframe thead th {\n",
       "        text-align: right;\n",
       "    }\n",
       "</style>\n",
       "<table border=\"1\" class=\"dataframe\">\n",
       "  <thead>\n",
       "    <tr style=\"text-align: right;\">\n",
       "      <th></th>\n",
       "      <th>event_type</th>\n",
       "      <th>state</th>\n",
       "      <th>month</th>\n",
       "      <th>season</th>\n",
       "      <th>magnitude</th>\n",
       "      <th>magnitude_type</th>\n",
       "      <th>begin_lat</th>\n",
       "      <th>begin_lon</th>\n",
       "      <th>damage_property_num</th>\n",
       "      <th>region</th>\n",
       "      <th>lat_bin</th>\n",
       "      <th>lon_bin</th>\n",
       "      <th>event_group</th>\n",
       "      <th>event_season</th>\n",
       "      <th>state_event</th>\n",
       "      <th>state_event_avg_damage</th>\n",
       "    </tr>\n",
       "  </thead>\n",
       "  <tbody>\n",
       "    <tr>\n",
       "      <th>0</th>\n",
       "      <td>Thunderstorm Wind</td>\n",
       "      <td>GEORGIA</td>\n",
       "      <td>3</td>\n",
       "      <td>MAM</td>\n",
       "      <td>52.0</td>\n",
       "      <td>EG</td>\n",
       "      <td>33.4757</td>\n",
       "      <td>-85.238</td>\n",
       "      <td>1000.0</td>\n",
       "      <td>South</td>\n",
       "      <td>(30, 35]</td>\n",
       "      <td>(-90, -85]</td>\n",
       "      <td>Thunderstorm Wind</td>\n",
       "      <td>Thunderstorm Wind_MAM</td>\n",
       "      <td>GEORGIA_Thunderstorm Wind</td>\n",
       "      <td>2487.808896</td>\n",
       "    </tr>\n",
       "    <tr>\n",
       "      <th>1</th>\n",
       "      <td>Tornado</td>\n",
       "      <td>MICHIGAN</td>\n",
       "      <td>3</td>\n",
       "      <td>MAM</td>\n",
       "      <td>50.0</td>\n",
       "      <td>Unknown</td>\n",
       "      <td>41.7900</td>\n",
       "      <td>-86.100</td>\n",
       "      <td>100000.0</td>\n",
       "      <td>Midwest</td>\n",
       "      <td>(40, 45]</td>\n",
       "      <td>(-90, -85]</td>\n",
       "      <td>Tornado</td>\n",
       "      <td>Tornado_MAM</td>\n",
       "      <td>MICHIGAN_Tornado</td>\n",
       "      <td>18214.285714</td>\n",
       "    </tr>\n",
       "    <tr>\n",
       "      <th>2</th>\n",
       "      <td>Flash Flood</td>\n",
       "      <td>TENNESSEE</td>\n",
       "      <td>4</td>\n",
       "      <td>MAM</td>\n",
       "      <td>50.0</td>\n",
       "      <td>Unknown</td>\n",
       "      <td>36.0300</td>\n",
       "      <td>-89.330</td>\n",
       "      <td>0.0</td>\n",
       "      <td>Other</td>\n",
       "      <td>(35, 40]</td>\n",
       "      <td>(-90, -85]</td>\n",
       "      <td>Flash Flood</td>\n",
       "      <td>Flash Flood_MAM</td>\n",
       "      <td>TENNESSEE_Flash Flood</td>\n",
       "      <td>14266.428571</td>\n",
       "    </tr>\n",
       "    <tr>\n",
       "      <th>3</th>\n",
       "      <td>Thunderstorm Wind</td>\n",
       "      <td>TENNESSEE</td>\n",
       "      <td>4</td>\n",
       "      <td>MAM</td>\n",
       "      <td>52.0</td>\n",
       "      <td>EG</td>\n",
       "      <td>36.1800</td>\n",
       "      <td>-88.160</td>\n",
       "      <td>0.0</td>\n",
       "      <td>Other</td>\n",
       "      <td>(35, 40]</td>\n",
       "      <td>(-90, -85]</td>\n",
       "      <td>Thunderstorm Wind</td>\n",
       "      <td>Thunderstorm Wind_MAM</td>\n",
       "      <td>TENNESSEE_Thunderstorm Wind</td>\n",
       "      <td>9633.411765</td>\n",
       "    </tr>\n",
       "    <tr>\n",
       "      <th>4</th>\n",
       "      <td>Flash Flood</td>\n",
       "      <td>TENNESSEE</td>\n",
       "      <td>4</td>\n",
       "      <td>MAM</td>\n",
       "      <td>50.0</td>\n",
       "      <td>Unknown</td>\n",
       "      <td>36.3000</td>\n",
       "      <td>-88.710</td>\n",
       "      <td>0.0</td>\n",
       "      <td>Other</td>\n",
       "      <td>(35, 40]</td>\n",
       "      <td>(-90, -85]</td>\n",
       "      <td>Flash Flood</td>\n",
       "      <td>Flash Flood_MAM</td>\n",
       "      <td>TENNESSEE_Flash Flood</td>\n",
       "      <td>14266.428571</td>\n",
       "    </tr>\n",
       "  </tbody>\n",
       "</table>\n",
       "</div>"
      ],
      "text/plain": [
       "          event_type      state  month season  magnitude magnitude_type  \\\n",
       "0  Thunderstorm Wind    GEORGIA      3    MAM       52.0             EG   \n",
       "1            Tornado   MICHIGAN      3    MAM       50.0        Unknown   \n",
       "2        Flash Flood  TENNESSEE      4    MAM       50.0        Unknown   \n",
       "3  Thunderstorm Wind  TENNESSEE      4    MAM       52.0             EG   \n",
       "4        Flash Flood  TENNESSEE      4    MAM       50.0        Unknown   \n",
       "\n",
       "   begin_lat  begin_lon  damage_property_num   region   lat_bin     lon_bin  \\\n",
       "0    33.4757    -85.238               1000.0    South  (30, 35]  (-90, -85]   \n",
       "1    41.7900    -86.100             100000.0  Midwest  (40, 45]  (-90, -85]   \n",
       "2    36.0300    -89.330                  0.0    Other  (35, 40]  (-90, -85]   \n",
       "3    36.1800    -88.160                  0.0    Other  (35, 40]  (-90, -85]   \n",
       "4    36.3000    -88.710                  0.0    Other  (35, 40]  (-90, -85]   \n",
       "\n",
       "         event_group           event_season                  state_event  \\\n",
       "0  Thunderstorm Wind  Thunderstorm Wind_MAM    GEORGIA_Thunderstorm Wind   \n",
       "1            Tornado            Tornado_MAM             MICHIGAN_Tornado   \n",
       "2        Flash Flood        Flash Flood_MAM        TENNESSEE_Flash Flood   \n",
       "3  Thunderstorm Wind  Thunderstorm Wind_MAM  TENNESSEE_Thunderstorm Wind   \n",
       "4        Flash Flood        Flash Flood_MAM        TENNESSEE_Flash Flood   \n",
       "\n",
       "   state_event_avg_damage  \n",
       "0             2487.808896  \n",
       "1            18214.285714  \n",
       "2            14266.428571  \n",
       "3             9633.411765  \n",
       "4            14266.428571  "
      ]
     },
     "execution_count": 2,
     "metadata": {},
     "output_type": "execute_result"
    }
   ],
   "source": [
    "ext_file = DATA_INTERIM / \"features_extended.parquet\"\n",
    "assert ext_file.exists(), \"Run 04b_feature_engineering_extended.ipynb first!\"\n",
    "df = pd.read_parquet(ext_file)\n",
    "\n",
    "print(\"Rows:\", df.shape[0], \"Cols:\", df.shape[1])\n",
    "df.head()\n"
   ]
  },
  {
   "cell_type": "code",
   "execution_count": 3,
   "id": "3511ec6b-fe2e-4e04-a29b-da79af09510e",
   "metadata": {},
   "outputs": [
    {
     "name": "stdout",
     "output_type": "stream",
     "text": [
      "Features: 14\n",
      "Target sample: 0      1000.0\n",
      "1    100000.0\n",
      "2         0.0\n",
      "3         0.0\n",
      "4         0.0\n",
      "Name: damage_property_num, dtype: float64\n"
     ]
    }
   ],
   "source": [
    "target_col = \"damage_property_num\"\n",
    "\n",
    "# Drop raw identifiers if present\n",
    "ignore_cols = [target_col, \"event_type\"]  \n",
    "features = [c for c in df.columns if c not in ignore_cols]\n",
    "\n",
    "X = df[features]\n",
    "y = df[target_col].astype(float)\n",
    "\n",
    "print(\"Features:\", len(features))\n",
    "print(\"Target sample:\", y.head())\n"
   ]
  },
  {
   "cell_type": "code",
   "execution_count": 4,
   "id": "95bd3406-1674-49aa-989c-16650af51a3a",
   "metadata": {},
   "outputs": [
    {
     "name": "stdout",
     "output_type": "stream",
     "text": [
      "Encoded shape: (19098, 443)\n"
     ]
    }
   ],
   "source": [
    "from sklearn.preprocessing import OneHotEncoder\n",
    "from sklearn.compose import ColumnTransformer\n",
    "from sklearn.pipeline import Pipeline\n",
    "from sklearn.impute import SimpleImputer\n",
    "\n",
    "num_cols = X.select_dtypes(include=[np.number]).columns.tolist()\n",
    "cat_cols = X.select_dtypes(include=[\"object\", \"string\", \"category\"]).columns.tolist()\n",
    "\n",
    "preprocessor = ColumnTransformer([\n",
    "    (\"num\", SimpleImputer(strategy=\"median\"), num_cols),\n",
    "    (\"cat\", Pipeline([\n",
    "        (\"imp\", SimpleImputer(strategy=\"most_frequent\")),\n",
    "        (\"oh\", OneHotEncoder(handle_unknown=\"ignore\"))\n",
    "    ]), cat_cols)\n",
    "])\n",
    "\n",
    "X_enc = preprocessor.fit_transform(X)\n",
    "joblib.dump(preprocessor, DATA_INTERIM / \"extended_feature_preprocessor.joblib\")\n",
    "\n",
    "print(\"Encoded shape:\", X_enc.shape)\n"
   ]
  },
  {
   "cell_type": "code",
   "execution_count": 5,
   "id": "d376e2c9-f52e-4232-8068-278a589bb174",
   "metadata": {},
   "outputs": [],
   "source": [
    "X_train, X_test, y_train, y_test = train_test_split(\n",
    "    X_enc, y, test_size=0.2, random_state=42\n",
    ")\n",
    "\n",
    "y_train_class = (y_train > 0).astype(int)\n",
    "y_test_class  = (y_test > 0).astype(int)\n"
   ]
  },
  {
   "cell_type": "code",
   "execution_count": 6,
   "id": "f5800598-9641-4464-b7c0-9bdb1da62b5d",
   "metadata": {},
   "outputs": [
    {
     "name": "stdout",
     "output_type": "stream",
     "text": [
      "Classifier Accuracy: 0.8740837696335079\n",
      "Classifier F1: 0.8139264990328821\n"
     ]
    }
   ],
   "source": [
    "clf = RandomForestClassifier(\n",
    "    n_estimators=300, max_depth=12, class_weight=\"balanced\", random_state=42, n_jobs=-1\n",
    ")\n",
    "clf.fit(X_train, y_train_class)\n",
    "\n",
    "clf_preds = clf.predict(X_test)\n",
    "clf_probs = clf.predict_proba(X_test)[:,1]\n",
    "\n",
    "print(\"Classifier Accuracy:\", accuracy_score(y_test_class, clf_preds))\n",
    "print(\"Classifier F1:\", f1_score(y_test_class, clf_preds))\n"
   ]
  },
  {
   "cell_type": "code",
   "execution_count": 10,
   "id": "45f32080-8b55-4726-8070-faa2214bcf84",
   "metadata": {},
   "outputs": [
    {
     "name": "stdout",
     "output_type": "stream",
     "text": [
      "Regressor RMSE (>0): 95348.90649769198\n",
      "Regressor MAE (>0): 35638.28536291412\n"
     ]
    }
   ],
   "source": [
    "# Boolean masks\n",
    "mask_train = (y_train > 0).values if hasattr(y_train, \"values\") else (y_train > 0)\n",
    "mask_test  = (y_test > 0).values if hasattr(y_test, \"values\") else (y_test > 0)\n",
    "\n",
    "# Convert to integer positions\n",
    "train_idx = np.where(mask_train)[0]\n",
    "test_idx  = np.where(mask_test)[0]\n",
    "\n",
    "# Ensure y arrays are numpy (not pandas Series)\n",
    "y_train_np = np.array(y_train)\n",
    "y_test_np  = np.array(y_test)\n",
    "\n",
    "# Train regressor only on non-zero rows\n",
    "reg = GradientBoostingRegressor(n_estimators=400, learning_rate=0.05, random_state=42)\n",
    "reg.fit(X_train[train_idx], y_train_np[train_idx])\n",
    "\n",
    "# Evaluate only on non-zero test rows\n",
    "reg_preds = reg.predict(X_test[test_idx])\n",
    "print(\"Regressor RMSE (>0):\", sqrt(mean_squared_error(y_test_np[test_idx], reg_preds)))\n",
    "print(\"Regressor MAE (>0):\", mean_absolute_error(y_test_np[test_idx], reg_preds))\n",
    "\n",
    "\n"
   ]
  },
  {
   "cell_type": "code",
   "execution_count": 11,
   "id": "61c566e9-2459-4fc2-b7e8-4c9285359d61",
   "metadata": {},
   "outputs": [
    {
     "name": "stdout",
     "output_type": "stream",
     "text": [
      "Two-stage extended -> RMSE: 61,648, MAE: 18,299, R²: 0.179\n"
     ]
    }
   ],
   "source": [
    "# Ensure y_test is numpy\n",
    "y_test_np = np.array(y_test)\n",
    "\n",
    "# Get classifier probabilities for all test rows\n",
    "clf_probs = clf.predict_proba(X_test)[:, 1]\n",
    "\n",
    "# Get regressor predictions for all test rows\n",
    "reg_all_preds = reg.predict(X_test)\n",
    "\n",
    "# Final blended prediction = probability of damage × estimated amount\n",
    "final_preds = clf_probs * reg_all_preds\n",
    "\n",
    "# Evaluate metrics\n",
    "rmse = sqrt(mean_squared_error(y_test_np, final_preds))\n",
    "mae  = mean_absolute_error(y_test_np, final_preds)\n",
    "r2   = r2_score(y_test_np, final_preds)\n",
    "\n",
    "print(f\"Two-stage extended -> RMSE: {rmse:,.0f}, MAE: {mae:,.0f}, R²: {r2:.3f}\")\n"
   ]
  },
  {
   "cell_type": "code",
   "execution_count": 12,
   "id": "1c68357a-1206-4f8c-9610-9c6cbec5ddec",
   "metadata": {},
   "outputs": [
    {
     "data": {
      "image/png": "[encoded data removed]",
      "text/plain": [
       "<Figure size 640x480 with 1 Axes>"
      ]
     },
     "metadata": {},
     "output_type": "display_data"
    }
   ],
   "source": [
    "plt.scatter(y_test_np, final_preds, alpha=0.3)\n",
    "plt.xlabel(\"Actual Damage ($)\")\n",
    "plt.ylabel(\"Predicted Damage ($)\")\n",
    "plt.title(\"Two-Stage Extended Model: Predicted vs Actual\")\n",
    "plt.grid(True)\n",
    "plt.tight_layout()\n",
    "plt.show()\n"
   ]
  },
  {
   "cell_type": "code",
   "execution_count": null,
   "id": "d3cea04d-14d1-4a9a-aa53-088d074b3e8c",
   "metadata": {},
   "outputs": [],
   "source": []
  }
 ],
 "metadata": {
  "kernelspec": {
   "display_name": "Python (.venv FDM)",
   "language": "python",
   "name": "fdm-venv"
  },
  "language_info": {
   "codemirror_mode": {
    "name": "ipython",
    "version": 3
   },
   "file_extension": ".py",
   "mimetype": "text/x-python",
   "name": "python",
   "nbconvert_exporter": "python",
   "pygments_lexer": "ipython3",
   "version": "3.11.1"
  }
 },
 "nbformat": 4,
 "nbformat_minor": 5
}
